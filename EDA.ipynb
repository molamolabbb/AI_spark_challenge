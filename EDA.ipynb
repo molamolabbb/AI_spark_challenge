{
 "cells": [
  {
   "cell_type": "code",
   "execution_count": 1,
   "id": "0fc3141c-07b2-4f02-b1ea-7814fe910706",
   "metadata": {},
   "outputs": [],
   "source": [
    "import os\n",
    "\n",
    "import json\n",
    "import yaml\n",
    "import numpy as np\n",
    "from glob import glob\n",
    "\n",
    "import argparse\n",
    "from collections import defaultdict"
   ]
  },
  {
   "cell_type": "markdown",
   "id": "54663990-164f-4685-bf99-9e81a6def761",
   "metadata": {},
   "source": [
    "## Count the number of image respectively"
   ]
  },
  {
   "cell_type": "code",
   "execution_count": 2,
   "id": "99dcb634-6a1c-40a4-8d49-f5a36177e2b5",
   "metadata": {},
   "outputs": [],
   "source": [
    "dir_path = \"/Users/kimjua/project/animal/Training/\"\n",
    "\n",
    "pig_labels = glob(dir_path+'*pig/*.json')\n",
    "cow_labels = glob(dir_path+'*cow/*.json')\n",
    "\n",
    "pig_num = len(pig_labels)\n",
    "cow_num = len(cow_labels)"
   ]
  },
  {
   "cell_type": "code",
   "execution_count": 3,
   "id": "84b56a77-87b2-46c4-91ec-e4d61b5c21ce",
   "metadata": {},
   "outputs": [
    {
     "name": "stdout",
     "output_type": "stream",
     "text": [
      "# of pig image: 4303\n",
      "# of cow image: 12152\n"
     ]
    }
   ],
   "source": [
    "print(f'# of pig image: {pig_num}')\n",
    "print(f'# of cow image: {cow_num}')"
   ]
  },
  {
   "cell_type": "markdown",
   "id": "dd42a42d-4d93-4253-9822-8fca62428c0a",
   "metadata": {},
   "source": [
    "## Count the number of bbox respectively"
   ]
  },
  {
   "cell_type": "code",
   "execution_count": 4,
   "id": "b2c456e0-ae5b-4ad6-86f1-a9499d7fc902",
   "metadata": {},
   "outputs": [
    {
     "name": "stdout",
     "output_type": "stream",
     "text": [
      "# of pig bbox: 45898\n",
      "# of cow bbox: 39943\n"
     ]
    }
   ],
   "source": [
    "classes_n = [0,0]\n",
    "\n",
    "# count # of bbox\n",
    "for i, labels in enumerate([pig_labels, cow_labels]):\n",
    "    for file_name in labels:\n",
    "        with open(file_name) as f:\n",
    "            img_list = json.load(f)\n",
    "        classes_n[i] += len(img_list['label_info']['annotations'])\n",
    "\n",
    "print(f'# of pig bbox: {classes_n[0]}')\n",
    "print(f'# of cow bbox: {classes_n[1]}')"
   ]
  },
  {
   "cell_type": "markdown",
   "id": "f3802356-1007-4f0f-9769-29b18868d1c4",
   "metadata": {},
   "source": [
    "## Count the image size (width, height)"
   ]
  },
  {
   "cell_type": "code",
   "execution_count": 5,
   "id": "3889acc1-8818-4715-ac2f-da197f050b73",
   "metadata": {},
   "outputs": [
    {
     "name": "stdout",
     "output_type": "stream",
     "text": [
      "# of image_size((1920, 1080)): 15283\n",
      "# of image_size((1280, 960)): 1172\n"
     ]
    }
   ],
   "source": [
    "image_size = defaultdict(int)\n",
    "\n",
    "for i, labels in enumerate([pig_labels, cow_labels]):\n",
    "    for file_name in labels:\n",
    "        with open(file_name) as f:\n",
    "            img_list = json.load(f)\n",
    "            size = (img_list['label_info']['image']['width'],img_list['label_info']['image']['height'])\n",
    "            image_size[size] += 1\n",
    "\n",
    "for key in image_size:\n",
    "    print(f'# of image_size({key}): {image_size[key]}')"
   ]
  },
  {
   "cell_type": "code",
   "execution_count": null,
   "id": "eaa27ed9-32e8-4421-9944-81cb5c1d72e9",
   "metadata": {},
   "outputs": [],
   "source": []
  }
 ],
 "metadata": {
  "kernelspec": {
   "display_name": "argo-translate",
   "language": "python",
   "name": "argo-trans"
  },
  "language_info": {
   "codemirror_mode": {
    "name": "ipython",
    "version": 3
   },
   "file_extension": ".py",
   "mimetype": "text/x-python",
   "name": "python",
   "nbconvert_exporter": "python",
   "pygments_lexer": "ipython3",
   "version": "3.7.3"
  }
 },
 "nbformat": 4,
 "nbformat_minor": 5
}
